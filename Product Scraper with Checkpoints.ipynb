{
 "cells": [
  {
   "cell_type": "code",
   "execution_count": 1,
   "id": "d3e18b63",
   "metadata": {},
   "outputs": [],
   "source": [
    "import time\n",
    "import requests\n",
    "import numpy as np\n",
    "import pandas as pd\n",
    "from tqdm import tqdm\n",
    "from bs4 import BeautifulSoup\n",
    "\n",
    "import chromedriver_binary\n",
    "from selenium import webdriver\n",
    "\n",
    "link = 'https://www.myntra.com/myntra-fashion-store?p='\n",
    "\n",
    "browser = webdriver.Chrome()\n",
    "browser.get(link + str(1))"
   ]
  },
  {
   "cell_type": "code",
   "execution_count": 2,
   "id": "1635082b",
   "metadata": {},
   "outputs": [
    {
     "data": {
      "text/plain": [
       "'/Users/ashishjangra/opt/anaconda3/lib/python3.9/site-packages/chromedriver_binary/chromedriver'"
      ]
     },
     "execution_count": 2,
     "metadata": {},
     "output_type": "execute_result"
    }
   ],
   "source": [
    "chromedriver_binary.chromedriver_filename"
   ]
  },
  {
   "cell_type": "code",
   "execution_count": 3,
   "id": "1c36d150",
   "metadata": {},
   "outputs": [],
   "source": [
    "def save_checkpoint(data, file_name):\n",
    "\n",
    "    df = pd.DataFrame(data, columns = ['product_name', 'brand_name', 'rating', 'rating_count', 'marked_price', \n",
    "                                       'discounted_price', 'sizes', 'product_link', 'img_link'])\n",
    "    df.to_csv(\"checkpoints/\" + file_name, index = False)\n",
    "    \n",
    "    print(file_name + \" saved\")"
   ]
  },
  {
   "cell_type": "code",
   "execution_count": null,
   "id": "ba49a0a0",
   "metadata": {},
   "outputs": [
    {
     "name": "stderr",
     "output_type": "stream",
     "text": [
      "  0%|▏                                    | 99/27100 [07:22<35:09:03,  4.69s/it]"
     ]
    },
    {
     "name": "stdout",
     "output_type": "stream",
     "text": [
      "3000.csv saved\n"
     ]
    },
    {
     "name": "stderr",
     "output_type": "stream",
     "text": [
      "  1%|▎                                   | 199/27100 [16:28<54:13:29,  7.26s/it]"
     ]
    },
    {
     "name": "stdout",
     "output_type": "stream",
     "text": [
      "3100.csv saved\n"
     ]
    },
    {
     "name": "stderr",
     "output_type": "stream",
     "text": [
      "  1%|▍                                   | 299/27100 [27:04<59:41:00,  8.02s/it]"
     ]
    },
    {
     "name": "stdout",
     "output_type": "stream",
     "text": [
      "3200.csv saved\n"
     ]
    },
    {
     "name": "stderr",
     "output_type": "stream",
     "text": [
      "  1%|▌                                   | 399/27100 [34:03<31:56:42,  4.31s/it]"
     ]
    },
    {
     "name": "stdout",
     "output_type": "stream",
     "text": [
      "3300.csv saved\n"
     ]
    },
    {
     "name": "stderr",
     "output_type": "stream",
     "text": [
      "  2%|▋                                   | 499/27100 [41:11<30:25:22,  4.12s/it]"
     ]
    },
    {
     "name": "stdout",
     "output_type": "stream",
     "text": [
      "3400.csv saved\n"
     ]
    },
    {
     "name": "stderr",
     "output_type": "stream",
     "text": [
      "  2%|▉                                      | 617/27100 [43:23<31:08, 14.17it/s]"
     ]
    },
    {
     "name": "stdout",
     "output_type": "stream",
     "text": [
      "3500.csv saved\n"
     ]
    },
    {
     "name": "stderr",
     "output_type": "stream",
     "text": [
      "  3%|█                                      | 700/27100 [43:27<20:14, 21.74it/s]"
     ]
    },
    {
     "name": "stdout",
     "output_type": "stream",
     "text": [
      "3600.csv saved\n"
     ]
    },
    {
     "name": "stderr",
     "output_type": "stream",
     "text": [
      "  3%|█▏                                     | 803/27100 [43:33<20:25, 21.46it/s]"
     ]
    },
    {
     "name": "stdout",
     "output_type": "stream",
     "text": [
      "3700.csv saved\n"
     ]
    },
    {
     "name": "stderr",
     "output_type": "stream",
     "text": [
      "  3%|█▎                                     | 900/27100 [43:39<20:43, 21.07it/s]"
     ]
    },
    {
     "name": "stdout",
     "output_type": "stream",
     "text": [
      "3800.csv saved\n"
     ]
    },
    {
     "name": "stderr",
     "output_type": "stream",
     "text": [
      "  4%|█▍                                    | 1003/27100 [43:45<20:13, 21.50it/s]"
     ]
    },
    {
     "name": "stdout",
     "output_type": "stream",
     "text": [
      "3900.csv saved\n"
     ]
    },
    {
     "name": "stderr",
     "output_type": "stream",
     "text": [
      "  4%|█▌                                    | 1112/27100 [43:51<18:07, 23.90it/s]"
     ]
    },
    {
     "name": "stdout",
     "output_type": "stream",
     "text": [
      "4000.csv saved\n"
     ]
    },
    {
     "name": "stderr",
     "output_type": "stream",
     "text": [
      "  4%|█▋                                    | 1209/27100 [43:57<21:10, 20.38it/s]"
     ]
    },
    {
     "name": "stdout",
     "output_type": "stream",
     "text": [
      "4100.csv saved\n"
     ]
    },
    {
     "name": "stderr",
     "output_type": "stream",
     "text": [
      "  5%|█▊                                    | 1322/27100 [44:03<20:50, 20.61it/s]"
     ]
    },
    {
     "name": "stdout",
     "output_type": "stream",
     "text": [
      "4200.csv saved\n"
     ]
    },
    {
     "name": "stderr",
     "output_type": "stream",
     "text": [
      "  5%|█▉                                    | 1413/27100 [44:09<23:12, 18.45it/s]"
     ]
    },
    {
     "name": "stdout",
     "output_type": "stream",
     "text": [
      "4300.csv saved\n"
     ]
    },
    {
     "name": "stderr",
     "output_type": "stream",
     "text": [
      "  6%|██▏                                   | 1532/27100 [44:15<18:59, 22.44it/s]"
     ]
    },
    {
     "name": "stdout",
     "output_type": "stream",
     "text": [
      "4400.csv saved\n"
     ]
    },
    {
     "name": "stderr",
     "output_type": "stream",
     "text": [
      "  6%|██▏                                   | 1587/27100 [44:19<21:37, 19.66it/s]"
     ]
    },
    {
     "name": "stdout",
     "output_type": "stream",
     "text": [
      "4500.csv saved\n"
     ]
    },
    {
     "name": "stderr",
     "output_type": "stream",
     "text": [
      "  6%|██▎                                   | 1681/27100 [44:25<24:50, 17.06it/s]"
     ]
    },
    {
     "name": "stdout",
     "output_type": "stream",
     "text": [
      "4600.csv saved\n"
     ]
    },
    {
     "name": "stderr",
     "output_type": "stream",
     "text": [
      "  7%|██▌                                   | 1808/27100 [44:31<19:55, 21.15it/s]"
     ]
    },
    {
     "name": "stdout",
     "output_type": "stream",
     "text": [
      "4700.csv saved\n"
     ]
    },
    {
     "name": "stderr",
     "output_type": "stream",
     "text": [
      "  7%|██▋                                   | 1910/27100 [44:37<17:50, 23.52it/s]"
     ]
    },
    {
     "name": "stdout",
     "output_type": "stream",
     "text": [
      "4800.csv saved\n"
     ]
    },
    {
     "name": "stderr",
     "output_type": "stream",
     "text": [
      "  7%|██▊                                   | 2011/27100 [44:43<20:38, 20.26it/s]"
     ]
    },
    {
     "name": "stdout",
     "output_type": "stream",
     "text": [
      "4900.csv saved\n"
     ]
    },
    {
     "name": "stderr",
     "output_type": "stream",
     "text": [
      "  8%|██▉                                   | 2108/27100 [44:49<20:56, 19.90it/s]"
     ]
    },
    {
     "name": "stdout",
     "output_type": "stream",
     "text": [
      "5000.csv saved\n"
     ]
    },
    {
     "name": "stderr",
     "output_type": "stream",
     "text": [
      "  8%|███                                   | 2220/27100 [44:55<20:15, 20.47it/s]"
     ]
    },
    {
     "name": "stdout",
     "output_type": "stream",
     "text": [
      "5100.csv saved\n"
     ]
    },
    {
     "name": "stderr",
     "output_type": "stream",
     "text": [
      "  9%|███▎                                  | 2320/27100 [45:01<20:48, 19.85it/s]"
     ]
    },
    {
     "name": "stdout",
     "output_type": "stream",
     "text": [
      "5200.csv saved\n"
     ]
    },
    {
     "name": "stderr",
     "output_type": "stream",
     "text": [
      "  9%|███▎                                  | 2388/27100 [45:05<17:51, 23.07it/s]"
     ]
    },
    {
     "name": "stdout",
     "output_type": "stream",
     "text": [
      "5300.csv saved\n"
     ]
    },
    {
     "name": "stderr",
     "output_type": "stream",
     "text": [
      "  9%|███▌                                  | 2499/27100 [45:11<20:18, 20.19it/s]"
     ]
    },
    {
     "name": "stdout",
     "output_type": "stream",
     "text": [
      "5400.csv saved\n"
     ]
    },
    {
     "name": "stderr",
     "output_type": "stream",
     "text": [
      " 10%|███▋                                  | 2605/27100 [45:17<17:42, 23.06it/s]"
     ]
    },
    {
     "name": "stdout",
     "output_type": "stream",
     "text": [
      "5500.csv saved\n"
     ]
    },
    {
     "name": "stderr",
     "output_type": "stream",
     "text": [
      " 10%|███▋                                  | 2638/27100 [45:19<18:53, 21.58it/s]"
     ]
    }
   ],
   "source": [
    "data = []\n",
    "\n",
    "link = 'https://www.myntra.com/myntra-fashion-store?p='\n",
    "\n",
    "   \n",
    "for page in tqdm(range(2901,30001)):\n",
    "    \n",
    "    \n",
    "    if (page % 100 == 0):\n",
    "        \n",
    "        file_name = str(page) + '.csv'\n",
    "        save_checkpoint(data, file_name)\n",
    "        \n",
    "        data = []\n",
    "    \n",
    "    try:\n",
    "        \n",
    "        page_link = link + str(page)\n",
    "\n",
    "        browser.get(page_link) \n",
    "\n",
    "        browser.execute_script(\"window.scrollTo(0,1500)\")\n",
    "        time.sleep(.5)\n",
    "\n",
    "        soup = BeautifulSoup(browser.page_source, 'html.parser')\n",
    "\n",
    "        for prod in soup.find('ul', class_ = 'results-base').find_all('li', class_ = 'product-base'):\n",
    "\n",
    "            # Rating Count\n",
    "            try:\n",
    "                rating_count    = prod.find('div', class_ = 'product-ratingsContainer').find('div', class_ = 'product-ratingsCount').text[1:].strip()\n",
    "            except:\n",
    "                rating_count    = 0\n",
    "            # Rating\n",
    "            try:\n",
    "                rating          = prod.find('div', class_ = 'product-ratingsContainer').find('span').text.strip()\n",
    "            except: \n",
    "                rating          = 0\n",
    "            # Product Link\n",
    "            try:\n",
    "                product_link    = prod.find('a', target = '_blank').get('href').strip()\n",
    "            except:\n",
    "                product_link    = np.nan\n",
    "            # Product Size\n",
    "            try:\n",
    "                size = []\n",
    "                for _ in prod.find('div',class_ = 'product-sizeButtonsContaier').find_all('button', class_ = 'product-sizeButton'):    \n",
    "                    size.append(_.text)\n",
    "                sizes = \",\".join(size)\n",
    "            except:\n",
    "                sizes           = np.nan\n",
    "            # Product Image Link\n",
    "            try:\n",
    "                img_link        = prod.find('img').get('src').strip()\n",
    "            except:\n",
    "                img_link        = np.nan  \n",
    "            # Brand of the Product  \n",
    "            try:\n",
    "                brand_name      = prod.find('h3').text.strip()\n",
    "            except:\n",
    "                brand_name      = np.nan   \n",
    "            # Product Name    \n",
    "            try:\n",
    "                product_name    = prod.find('h4').text.strip()\n",
    "            except:\n",
    "                product_name    = np.nan  \n",
    "            # Product Price \n",
    "            try:   \n",
    "                if(len(prod.find('div', class_ = 'product-price').find_all('span')) == 1):\n",
    "                    discounted_price    = int(prod.find('div', class_ = 'product-price').find('span').text.strip()[4:])\n",
    "                    marked_price        = int(prod.find('div', class_ = 'product-price').find('span').text.strip()[4:])\n",
    "\n",
    "                else:\n",
    "                    discounted_price    = int(prod.find('div', class_ = 'product-price').find('span',class_ = 'product-discountedPrice').text.strip()[4:])\n",
    "                    marked_price        = int(prod.find('div', class_ = 'product-price').find('span',class_ = 'product-strike').text.strip()[4:])   \n",
    "            except:\n",
    "                discounted_price    = np.nan\n",
    "                marked_price        = np.nan\n",
    "\n",
    "\n",
    "            data.append([product_name, brand_name, rating, rating_count, marked_price, \n",
    "                     discounted_price, sizes, product_link, img_link])\n",
    "    except:\n",
    "        pass"
   ]
  },
  {
   "cell_type": "code",
   "execution_count": null,
   "id": "e9206d12",
   "metadata": {},
   "outputs": [],
   "source": []
  }
 ],
 "metadata": {
  "kernelspec": {
   "display_name": "Python 3 (ipykernel)",
   "language": "python",
   "name": "python3"
  },
  "language_info": {
   "codemirror_mode": {
    "name": "ipython",
    "version": 3
   },
   "file_extension": ".py",
   "mimetype": "text/x-python",
   "name": "python",
   "nbconvert_exporter": "python",
   "pygments_lexer": "ipython3",
   "version": "3.9.7"
  }
 },
 "nbformat": 4,
 "nbformat_minor": 5
}
