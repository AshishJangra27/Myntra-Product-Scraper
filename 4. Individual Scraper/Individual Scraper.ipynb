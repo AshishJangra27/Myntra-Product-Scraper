{
 "cells": [
  {
   "cell_type": "code",
   "execution_count": 9,
   "id": "0f21042b",
   "metadata": {},
   "outputs": [],
   "source": [
    "import time\n",
    "import requests\n",
    "import numpy as np\n",
    "import pandas as pd\n",
    "from tqdm import tqdm\n",
    "import chromedriver_binary\n",
    "from bs4 import BeautifulSoup\n",
    "from selenium import webdriver\n",
    "\n",
    "\n",
    "df = pd.read_csv('data.csv')\n",
    "\n",
    "\n",
    "browser = webdriver.Chrome()\n",
    "browser.get('https://www.myntra.com/')"
   ]
  },
  {
   "cell_type": "code",
   "execution_count": 81,
   "id": "c354e6e0",
   "metadata": {},
   "outputs": [
    {
     "name": "stderr",
     "output_type": "stream",
     "text": [
      "  0%|                                                    | 0/10 [00:00<?, ?it/s]/var/folders/rq/lwddjvtn5n9gjw05hwrg3hp80000gn/T/ipykernel_72113/4133706844.py:35: DeprecationWarning: find_element_by_class_name is deprecated. Please use find_element(by=By.CLASS_NAME, value=name) instead\n",
      "  btn = browser.find_element_by_class_name('supplier-productSellerName')\n",
      "100%|███████████████████████████████████████████| 10/10 [00:25<00:00,  2.51s/it]\n"
     ]
    }
   ],
   "source": [
    "meta_description = []\n",
    "meta_keyword     = []\n",
    "seller_address   = []\n",
    "tags             = []\n",
    "prod_link        = []\n",
    "\n",
    "for link in tqdm(df['product_link'][:10]):\n",
    "    \n",
    "    prod_link.append(link)\n",
    "    \n",
    "    link = 'https://www.myntra.com/' + link\n",
    "        \n",
    "    browser.get(link)\n",
    "    \n",
    "    time.sleep(1)\n",
    "    soup = BeautifulSoup(browser.page_source, 'html.parser')\n",
    "    \n",
    "    try:    \n",
    "        for meta in soup.find_all('meta'):    \n",
    "            if('keyword' in str((meta))):\n",
    "                meta_keyword_ = meta.get('content')\n",
    "            if('description' in str((meta))):\n",
    "                meta_description_ = meta.get('content')\n",
    "                break\n",
    "    except:\n",
    "        meta_description = np.nan\n",
    "        meta_content     = np.nan\n",
    "    \n",
    "    try:\n",
    "        tags_ = [sp.get('href')[1:] for sp in soup.find('div', class_ = 'breadcrumbs-container').find_all('a')[1:-1]]\n",
    "    except:\n",
    "        tags_ = np.nan\n",
    "    \n",
    "    try:\n",
    "        btn = browser.find_element_by_class_name('supplier-productSellerName')\n",
    "        btn.click()\n",
    "        time.sleep(.1)\n",
    "        soup           = BeautifulSoup(browser.page_source, 'html.parser')\n",
    "        seller_address_ = soup.find('p', class_ = 'grievance-modifier').text.strip()\n",
    "    except:\n",
    "        seller_address_ = np.nan\n",
    "\n",
    "        \n",
    "    meta_description.append(meta_description_)\n",
    "    meta_keyword.append(meta_keyword_)\n",
    "    tags.append(tags_)\n",
    "    seller_address.append(seller_address_)\n",
    "    \n",
    "#     break"
   ]
  },
  {
   "cell_type": "code",
   "execution_count": null,
   "id": "b39713f2",
   "metadata": {},
   "outputs": [],
   "source": []
  }
 ],
 "metadata": {
  "kernelspec": {
   "display_name": "Python 3 (ipykernel)",
   "language": "python",
   "name": "python3"
  },
  "language_info": {
   "codemirror_mode": {
    "name": "ipython",
    "version": 3
   },
   "file_extension": ".py",
   "mimetype": "text/x-python",
   "name": "python",
   "nbconvert_exporter": "python",
   "pygments_lexer": "ipython3",
   "version": "3.9.7"
  }
 },
 "nbformat": 4,
 "nbformat_minor": 5
}
