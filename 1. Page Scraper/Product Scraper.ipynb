{
 "cells": [
  {
   "cell_type": "code",
   "execution_count": 5,
   "id": "d3e18b63",
   "metadata": {},
   "outputs": [],
   "source": [
    "import time\n",
    "import requests\n",
    "import numpy as np\n",
    "import pandas as pd\n",
    "from tqdm import tqdm\n",
    "from bs4 import BeautifulSoup\n",
    "\n",
    "import chromedriver_binary\n",
    "from selenium import webdriver\n",
    "\n",
    "link = 'https://www.myntra.com/myntra-fashion-store?p='\n",
    "\n",
    "browser = webdriver.Chrome()\n",
    "browser.get(link)"
   ]
  },
  {
   "cell_type": "code",
   "execution_count": 180,
   "id": "1c36d150",
   "metadata": {},
   "outputs": [],
   "source": [
    "def save_checkpoint(data, file_name):\n",
    "\n",
    "    df = pd.DataFrame(data, columns = ['product_name', 'brand_name', 'rating', 'rating_count', 'marked_price', \n",
    "                                       'discounted_price', 'sizes', 'product_link', 'img_link'])\n",
    "    df.to_csv(\"checkpoints/\" + file_name, index = False)\n",
    "    \n",
    "    print(file_name + \" saved\")"
   ]
  },
  {
   "cell_type": "code",
   "execution_count": 181,
   "id": "ba49a0a0",
   "metadata": {},
   "outputs": [
    {
     "name": "stderr",
     "output_type": "stream",
     "text": [
      " 30%|█████████████▏                              | 9/30 [00:34<01:15,  3.61s/it]"
     ]
    },
    {
     "name": "stdout",
     "output_type": "stream",
     "text": [
      "10.csv saved\n"
     ]
    },
    {
     "name": "stderr",
     "output_type": "stream",
     "text": [
      " 63%|███████████████████████████▏               | 19/30 [01:23<00:48,  4.44s/it]"
     ]
    },
    {
     "name": "stdout",
     "output_type": "stream",
     "text": [
      "20.csv saved\n"
     ]
    },
    {
     "name": "stderr",
     "output_type": "stream",
     "text": [
      " 97%|█████████████████████████████████████████▌ | 29/30 [02:59<00:04,  4.64s/it]"
     ]
    },
    {
     "name": "stdout",
     "output_type": "stream",
     "text": [
      "30.csv saved\n"
     ]
    },
    {
     "name": "stderr",
     "output_type": "stream",
     "text": [
      "100%|███████████████████████████████████████████| 30/30 [03:02<00:00,  6.10s/it]\n"
     ]
    }
   ],
   "source": [
    "data = []\n",
    "\n",
    "link = 'https://www.myntra.com/myntra-fashion-store?p='\n",
    "\n",
    "   \n",
    "for page in tqdm(range(1,31)):\n",
    "    \n",
    "    \n",
    "    if (page % 100 == 0):\n",
    "        \n",
    "        file_name = str(page) + '.csv'\n",
    "        save_checkpoint(data, file_name)\n",
    "        \n",
    "        data = []\n",
    "    \n",
    "    try:\n",
    "        \n",
    "        page_link = link + str(page)\n",
    "\n",
    "        browser.get(page_link) \n",
    "\n",
    "        browser.execute_script(\"window.scrollTo(0,1500)\")\n",
    "        time.sleep(.5)\n",
    "\n",
    "        soup = BeautifulSoup(browser.page_source, 'html.parser')\n",
    "\n",
    "        for prod in soup.find('ul', class_ = 'results-base').find_all('li', class_ = 'product-base'):\n",
    "\n",
    "            # Rating Count\n",
    "            try:\n",
    "                rating_count    = prod.find('div', class_ = 'product-ratingsContainer').find('div', class_ = 'product-ratingsCount').text[1:].strip()\n",
    "            except:\n",
    "                rating_count    = 0\n",
    "            # Rating\n",
    "            try:\n",
    "                rating          = prod.find('div', class_ = 'product-ratingsContainer').find('span').text.strip()\n",
    "            except: \n",
    "                rating          = 0\n",
    "            # Product Link\n",
    "            try:\n",
    "                product_link    = prod.find('a', target = '_blank').get('href').strip()\n",
    "            except:\n",
    "                product_link    = np.nan\n",
    "            # Product Size\n",
    "            try:\n",
    "                size = []\n",
    "                for _ in prod.find('div',class_ = 'product-sizeButtonsContaier').find_all('button', class_ = 'product-sizeButton'):    \n",
    "                    size.append(_.text)\n",
    "                sizes = \",\".join(size)\n",
    "            except:\n",
    "                sizes           = np.nan\n",
    "            # Product Image Link\n",
    "            try:\n",
    "                img_link        = prod.find('img').get('src').strip()\n",
    "            except:\n",
    "                img_link        = np.nan  \n",
    "            # Brand of the Product  \n",
    "            try:\n",
    "                brand_name      = prod.find('h3').text.strip()\n",
    "            except:\n",
    "                brand_name      = np.nan   \n",
    "            # Product Name    \n",
    "            try:\n",
    "                product_name    = prod.find('h4').text.strip()\n",
    "            except:\n",
    "                product_name    = np.nan  \n",
    "            # Product Price \n",
    "            try:   \n",
    "                if(len(prod.find('div', class_ = 'product-price').find_all('span')) == 1):\n",
    "                    discounted_price    = int(prod.find('div', class_ = 'product-price').find('span').text.strip()[4:])\n",
    "                    marked_price        = int(prod.find('div', class_ = 'product-price').find('span').text.strip()[4:])\n",
    "\n",
    "                else:\n",
    "                    discounted_price    = int(prod.find('div', class_ = 'product-price').find('span',class_ = 'product-discountedPrice').text.strip()[4:])\n",
    "                    marked_price        = int(prod.find('div', class_ = 'product-price').find('span',class_ = 'product-strike').text.strip()[4:])   \n",
    "            except:\n",
    "                discounted_price    = np.nan\n",
    "                marked_price        = np.nan\n",
    "\n",
    "\n",
    "            data.append([product_name, brand_name, rating, rating_count, marked_price, \n",
    "                     discounted_price, sizes, product_link, img_link])\n",
    "    except:\n",
    "        pass"
   ]
  },
  {
   "cell_type": "code",
   "execution_count": 182,
   "id": "e4bad7bd",
   "metadata": {},
   "outputs": [
    {
     "data": {
      "text/plain": [
       "product_name        0\n",
       "brand_name          0\n",
       "rating              0\n",
       "rating_count        0\n",
       "marked_price        0\n",
       "discounted_price    0\n",
       "sizes               0\n",
       "product_link        0\n",
       "img_link            0\n",
       "dtype: int64"
      ]
     },
     "execution_count": 182,
     "metadata": {},
     "output_type": "execute_result"
    }
   ],
   "source": [
    "df = pd.read_csv('checkpoints/10.csv')\n",
    "df.isnull().sum()"
   ]
  },
  {
   "cell_type": "code",
   "execution_count": 183,
   "id": "6afc05ce",
   "metadata": {},
   "outputs": [
    {
     "data": {
      "text/plain": [
       "product_name        0\n",
       "brand_name          0\n",
       "rating              0\n",
       "rating_count        0\n",
       "marked_price        0\n",
       "discounted_price    0\n",
       "sizes               0\n",
       "product_link        0\n",
       "img_link            0\n",
       "dtype: int64"
      ]
     },
     "execution_count": 183,
     "metadata": {},
     "output_type": "execute_result"
    }
   ],
   "source": [
    "df = pd.read_csv('checkpoints/20.csv')\n",
    "df.isnull().sum()"
   ]
  },
  {
   "cell_type": "code",
   "execution_count": 184,
   "id": "d287d41f",
   "metadata": {},
   "outputs": [
    {
     "data": {
      "text/plain": [
       "product_name        0\n",
       "brand_name          0\n",
       "rating              0\n",
       "rating_count        0\n",
       "marked_price        0\n",
       "discounted_price    0\n",
       "sizes               1\n",
       "product_link        0\n",
       "img_link            4\n",
       "dtype: int64"
      ]
     },
     "execution_count": 184,
     "metadata": {},
     "output_type": "execute_result"
    }
   ],
   "source": [
    "df = pd.read_csv('checkpoints/30.csv')\n",
    "df.isnull().sum()"
   ]
  },
  {
   "cell_type": "code",
   "execution_count": null,
   "id": "e9206d12",
   "metadata": {},
   "outputs": [],
   "source": []
  }
 ],
 "metadata": {
  "kernelspec": {
   "display_name": "Python 3 (ipykernel)",
   "language": "python",
   "name": "python3"
  },
  "language_info": {
   "codemirror_mode": {
    "name": "ipython",
    "version": 3
   },
   "file_extension": ".py",
   "mimetype": "text/x-python",
   "name": "python",
   "nbconvert_exporter": "python",
   "pygments_lexer": "ipython3",
   "version": "3.9.7"
  }
 },
 "nbformat": 4,
 "nbformat_minor": 5
}
